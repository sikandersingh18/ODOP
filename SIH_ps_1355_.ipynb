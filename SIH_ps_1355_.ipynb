{
  "nbformat": 4,
  "nbformat_minor": 0,
  "metadata": {
    "colab": {
      "private_outputs": true,
      "provenance": []
    },
    "kernelspec": {
      "name": "python3",
      "display_name": "Python 3"
    },
    "language_info": {
      "name": "python"
    }
  },
  "cells": [
    {
      "cell_type": "code",
      "source": [
        "data.head()"
      ],
      "metadata": {
        "id": "X7F2-AHlSBbY"
      },
      "execution_count": null,
      "outputs": []
    },
    {
      "cell_type": "code",
      "execution_count": null,
      "metadata": {
        "id": "TGdTkPOLEvhK"
      },
      "outputs": [],
      "source": [
        "# Import necessary libraries\n",
        "import numpy as np\n",
        "import pandas as pd\n",
        "from sklearn.model_selection import train_test_split\n",
        "from sklearn.ensemble import RandomForestRegressor\n",
        "from sklearn.metrics import mean_squared_error, r2_score\n",
        "import matplotlib.pyplot as plt\n",
        "\n",
        "# Load and preprocess the dataset\n",
        "data = pd.read_csv('market_demand_data1.csv') # Replace with your dataset\n",
        "\n",
        "# Perform data preprocessing (e.g., handling missing values, encoding categorical variables)\n",
        "# Example:\n",
        "data= data.dropna()\n",
        "# Step 1: Data Preprocessing\n",
        "data['Date'] = pd.to_datetime(data['Date'])  # Convert 'Date' column to datetime\n",
        "data['Year'] = data['Date'].dt.year  # Extract year\n",
        "data['Month'] = data['Date'].dt.month  # Extract month\n",
        "data['Day'] = data['Date'].dt.day  # Extract day\n",
        "data = pd.get_dummies(data, columns=['Product_Code', 'Warehouse', 'Product_Category'])  # One-hot encode categorical variables\n",
        "\n",
        "#data = pd.get_dummies(data, columns=['Product_category'])\n",
        "\n",
        "# Split the data into training and testing sets\n",
        "X = data.drop(columns=['Order_Demand', 'Date'])\n",
        "y = data['Order_Demand']  # Target variable\n",
        "\n",
        "X_train, X_test, y_train, y_test = train_test_split(X, y, test_size=0.2, random_state=42)\n",
        "\n",
        "# Train a machine learning model (Random Forest Regressor in this example)\n",
        "model = RandomForestRegressor(n_estimators=1000, random_state=42)\n",
        "model.fit(X_train, y_train)\n",
        "\n",
        "# Make predictions on the test set\n",
        "y_pred = model.predict(X_test)\n",
        "\n",
        "# Evaluate the model\n",
        "mse = mean_squared_error(y_test, y_pred)\n",
        "r2 = r2_score(y_test, y_pred)\n",
        "\n",
        "print(f\"R-squared: {r2}\")\n",
        "\n",
        "# Visualize the predictions (optional)\n",
        "#plt.scatter(y_test, y_pred)\n",
        "#plt.xlabel(\"Actual Demand\")\n",
        "#plt.ylabel(\"Predicted Demand\")\n",
        "#plt.title(\"Demand Prediction Scatter Plot\")\n",
        "#plt.show()\n",
        "\n",
        "plt.figure(figsize=(10, 6))\n",
        "plt.scatter(y_test, y_pred, alpha=0.5)\n",
        "plt.xlabel(\"Actual Order Demand\")\n",
        "plt.ylabel(\"Predicted Order Demand\")\n",
        "plt.title(\"Order Demand Prediction\")\n",
        "plt.show()\n",
        "\n",
        "\n",
        "\n",
        "\n",
        "results = pd.DataFrame({'Actual Demand': y_test, 'Predicted Demand': y_pred})\n",
        "\n",
        "# Create a time index based on the date (assuming 'Date' column is already in datetime format)\n",
        "#results.set_index(X_test['Date'], inplace=True)\n",
        "\n",
        "# Create line plots for actual and predicted demand\n",
        "plt.figure(figsize=(12, 6))\n",
        "plt.plot(results.index, results['Actual Demand'], label='Actual Demand', linestyle='-', marker='o')\n",
        "plt.plot(results.index, results['Predicted Demand'], label='Predicted Demand', linestyle='--', marker='x')\n",
        "plt.xlabel(\"Actual Order Demand\")\n",
        "plt.ylabel(\"Predicted Order Demand\")\n",
        "plt.title(\"Actual vs. Predicted Demand\")\n",
        "plt.legend()\n",
        "plt.grid(True)\n",
        "plt.show()\n",
        "\n",
        "\n",
        "\n"
      ]
    },
    {
      "cell_type": "code",
      "source": [
        "\n",
        "accuracy_percentage = r2 * 100\n",
        "print(f\"Accuracy Percentage: {accuracy_percentage:.2f}%\")"
      ],
      "metadata": {
        "id": "9RqmtNGvBJTm"
      },
      "execution_count": null,
      "outputs": []
    }
  ]
}